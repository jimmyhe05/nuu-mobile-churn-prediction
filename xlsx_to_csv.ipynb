{
 "cells": [
  {
   "cell_type": "code",
   "execution_count": 4,
   "metadata": {},
   "outputs": [
    {
     "name": "stdout",
     "output_type": "stream",
     "text": [
      "Requirement already satisfied: xlrd in ./.venv/lib/python3.13/site-packages (2.0.1)\n",
      "Note: you may need to restart the kernel to use updated packages.\n"
     ]
    }
   ],
   "source": [
    "%pip install xlrd\n",
    "\n",
    "import pandas as pd\n",
    "\n",
    "# Load Excel file\n",
    "df = pd.read_excel(\"UW_Churn_Pred_Data.xls\", sheet_name=\"Data Before Feb 13\")\n",
    "# sheets = pd.ExcelFile(\"UW_Churn_Pred_Data.xls\").sheet_names\n",
    "# print(sheets)\n",
    "\n",
    "\n",
    "# Save as CSV\n",
    "df.to_csv(\"data_before_feb13.csv\", index=False)\n"
   ]
  },
  {
   "cell_type": "code",
   "execution_count": null,
   "metadata": {},
   "outputs": [],
   "source": []
  }
 ],
 "metadata": {
  "kernelspec": {
   "display_name": ".venv",
   "language": "python",
   "name": "python3"
  },
  "language_info": {
   "codemirror_mode": {
    "name": "ipython",
    "version": 3
   },
   "file_extension": ".py",
   "mimetype": "text/x-python",
   "name": "python",
   "nbconvert_exporter": "python",
   "pygments_lexer": "ipython3",
   "version": "3.13.2"
  }
 },
 "nbformat": 4,
 "nbformat_minor": 2
}
